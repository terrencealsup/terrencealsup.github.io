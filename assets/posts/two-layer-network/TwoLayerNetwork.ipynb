{
 "cells": [
  {
   "cell_type": "markdown",
   "id": "interested-cookie",
   "metadata": {},
   "source": [
    "# Imports"
   ]
  },
  {
   "cell_type": "code",
   "execution_count": 1,
   "id": "essential-excess",
   "metadata": {},
   "outputs": [],
   "source": [
    "import numpy as np\n",
    "from tqdm import tqdm\n",
    "from matplotlib import pyplot as plt\n",
    "\n",
    "# Set plotting options\n",
    "params = {'text.usetex' : True,\n",
    "          'font.size' : 16,\n",
    "          'font.family' : 'lmodern'\n",
    "          }\n",
    "plt.rcParams.update(params) "
   ]
  },
  {
   "cell_type": "markdown",
   "id": "equivalent-fossil",
   "metadata": {},
   "source": [
    "# Network class"
   ]
  },
  {
   "cell_type": "code",
   "execution_count": 2,
   "id": "floral-audit",
   "metadata": {},
   "outputs": [],
   "source": [
    "def relu(x):\n",
    "    \"\"\"Rectified linear unit\n",
    "    \n",
    "    Input:\n",
    "    x - numpy array of shape (m, n) where n is the number\n",
    "        of points and m is the dimension\n",
    "    \n",
    "    Return:\n",
    "    numpy array of shape (m ,n) of the pointwise ReLU\n",
    "    \"\"\"\n",
    "    return np.maximum(x, 0)\n",
    "\n",
    "\n",
    "def grad_relu(x):\n",
    "    \"\"\"Heaviside function\n",
    "    \n",
    "    Input:\n",
    "    x - numpy array of shape (m, n) where n is the number\n",
    "        of points and m is the dimension\n",
    "    \n",
    "    Return:\n",
    "    numpy array of shape (m ,n) of the pointwise Heaviside\n",
    "    \"\"\"\n",
    "    return (x > 0).astype(float)\n",
    "\n",
    "\n",
    "class TwoLayerNetwork:\n",
    "    \n",
    "    def __init__(self, m0, m1, m2):\n",
    "        \"\"\"Initialize the network with random weights.\n",
    "        \n",
    "        Input:\n",
    "        m0 - int for the input dimension\n",
    "        m1 - int for the hidden layer dimension\n",
    "        m2 - int for the output dimension\n",
    "        \"\"\"\n",
    "        self.m0 = m0\n",
    "        self.m1 = m1\n",
    "        self.m2 = m2\n",
    "        # Weight matrices\n",
    "        self.W1 = np.random.randn(m1, m0)\n",
    "        self.W2 = np.random.randn(m2, m1)\n",
    "        # Save b1, b2 as column vectors for correct\n",
    "        # broadcasting during prediction.\n",
    "        self.b1 = np.random.randn(m1, 1)\n",
    "        self.b2 = np.random.randn(m2, 1)\n",
    "   \n",
    "\n",
    "    def predict(self, X):\n",
    "        \"\"\"Evaluate the network on test points.\n",
    "        \n",
    "        Input:\n",
    "        X - numpy array of shape (m0, n) where m0 is the input\n",
    "            dimension and n is the number of points\n",
    "        \n",
    "        Return:\n",
    "        y2 - numpy array of shape (m2, n) where m2 is the \n",
    "             output dimension of the network\n",
    "        \"\"\"\n",
    "        y1 = self.W1 @ X + self.b1\n",
    "        y2 = self.W2 @ relu(y1) + self.b2\n",
    "        return y2\n",
    "     \n",
    "        \n",
    "    def grad_loss(self, X, y):\n",
    "        \"\"\"Compute the gradient of the loss on the training set.\n",
    "        \n",
    "        The loss is given by\n",
    "        1/n sum_{i=1}^n ||f(x_i) - y_i||^2\n",
    "        \n",
    "        Input:\n",
    "        X - numpy array of shape (m0, n)\n",
    "        y - numpy array of shape (m2, n)\n",
    "        \n",
    "        Return:\n",
    "        loss - float for the mean-squared error of the network on \n",
    "               the training points\n",
    "        grad_W1 - numpy array of shape (m0, m1)\n",
    "        grad_W2 - numpy array of shape (m1, m2)\n",
    "        grad_b1 - numpy array of shape (m1, 1)\n",
    "        grad_b2 - numpy array of shape (m2, 1)\n",
    "        \"\"\"\n",
    "        n = X.shape[1]  # Number of training samples\n",
    "        fx = self.predict(X)  # shape (m2, n)\n",
    "        \n",
    "        # Pre-compute matrices\n",
    "        R = fx - y # residuals\n",
    "        V = self.W2.T @ R\n",
    "        S = relu(self.W1 @ X + self.b1) # shape (m1, n)\n",
    "        D = grad_relu(self.W1 @ X + self.b1) # shape (m1, n)\n",
    "        \n",
    "        # Multiply the loss by m2 since there are n*m2 elements\n",
    "        # in the matrices fx, y\n",
    "        loss = self.m2 * np.mean(R*R)\n",
    "        \n",
    "        # Gradients\n",
    "        grad_W1 = (2/n) * (V * D) @ X.T\n",
    "        \n",
    "        grad_W2 = (2/n) * (R @ S.T)\n",
    "        \n",
    "        grad_b1 = 2 * np.mean(V * D, axis=1)\n",
    "        grad_b1 = grad_b1.reshape((self.m1, 1))\n",
    "        \n",
    "        grad_b2 = 2 * np.mean(R, axis=1)\n",
    "        grad_b2 = grad_b2.reshape((self.m2, 1))\n",
    "        \n",
    "        return loss, grad_W1, grad_W2, grad_b1, grad_b2\n",
    "       \n",
    "        \n",
    "    def train(self, X, y, lr, epochs):\n",
    "        \"\"\"Train the network using gradient descent.\n",
    "        Updates the network parameters in place.\n",
    "        \n",
    "        Input:\n",
    "        X - numpy array of shape (m0, n)\n",
    "        y - numpy array of shape (m2, n)\n",
    "        lr - float > 0 that specifies the learning rate\n",
    "        epochs - int > 0 that specifies the number of iterations\n",
    "        \n",
    "        Return:\n",
    "        loss - float for the final mean-squared error of the network \n",
    "               on the training points\n",
    "        \"\"\"   \n",
    "        for t in tqdm(range(epochs)):  \n",
    "            # Compute loss function and gradients\n",
    "            loss, grad_W1, grad_W2, grad_b1, grad_b2 = \\\n",
    "            self.grad_loss(X, y)  \n",
    "            \n",
    "            # Update parameters\n",
    "            self.W1 -= lr*grad_W1\n",
    "            self.W2 -= lr*grad_W2\n",
    "            self.b1 -= lr*grad_b1\n",
    "            self.b2 -= lr*grad_b2        \n",
    "        return loss"
   ]
  },
  {
   "cell_type": "markdown",
   "id": "likely-sarah",
   "metadata": {},
   "source": [
    "# Test example 1\n",
    "\n",
    "Approximate the function $f(x) = x^2$."
   ]
  },
  {
   "cell_type": "code",
   "execution_count": 16,
   "id": "adequate-korea",
   "metadata": {},
   "outputs": [],
   "source": [
    "# Approximating the function x^2\n",
    "nn = TwoLayerNetwork(1, 15, 1)\n",
    "\n",
    "# Generate training, validation, and test data\n",
    "ntrain = 1000\n",
    "Xtrain = 5*np.random.randn(1, ntrain)\n",
    "ytrain = Xtrain * Xtrain\n",
    "\n",
    "nval = 1000\n",
    "Xval = 5*np.random.randn(1, ntrain)\n",
    "yval = Xval * Xval\n",
    "\n",
    "ntest = 1000\n",
    "Xtest = np.linspace(-10, 10, ntest).reshape((1, ntest))\n",
    "ytest = Xtest * Xtest"
   ]
  },
  {
   "cell_type": "code",
   "execution_count": 17,
   "id": "forced-camcorder",
   "metadata": {},
   "outputs": [
    {
     "name": "stderr",
     "output_type": "stream",
     "text": [
      "100%|██████████| 2500/2500 [00:06<00:00, 387.49it/s]\n"
     ]
    }
   ],
   "source": [
    "# Train the network and compute validation and training loss\n",
    "epochs = 2500\n",
    "lr = 1e-3\n",
    "\n",
    "train_loss = []\n",
    "val_loss = []\n",
    "\n",
    "# Gradient descent update\n",
    "for t in tqdm(range(epochs)):  \n",
    "    # Compute loss function and gradients\n",
    "    loss_t, grad_W1, grad_W2, grad_b1, grad_b2 = \\\n",
    "    nn.grad_loss(Xtrain, ytrain)  \n",
    "    train_loss.append(loss_t)\n",
    "    \n",
    "    # Compute validation loss\n",
    "    loss_t, _, _, _, _ = nn.grad_loss(Xval, yval)\n",
    "    val_loss.append(loss_t)\n",
    "    \n",
    "    # Update parameters\n",
    "    nn.W1 -= lr*grad_W1\n",
    "    nn.W2 -= lr*grad_W2\n",
    "    nn.b1 -= lr*grad_b1\n",
    "    nn.b2 -= lr*grad_b2    \n",
    "    \n",
    "# Get the prediction on the test data\n",
    "ypred = nn.predict(Xtest)"
   ]
  },
  {
   "cell_type": "code",
   "execution_count": 19,
   "id": "powerful-action",
   "metadata": {},
   "outputs": [
    {
     "data": {
      "image/png": "[encoded data removed]",
      "text/plain": [
       "<Figure size 720x288 with 2 Axes>"
      ]
     },
     "metadata": {
      "needs_background": "light"
     },
     "output_type": "display_data"
    }
   ],
   "source": [
    "# Plot results\n",
    "fig, ax = plt.subplots(1, 2, figsize=(10,4))\n",
    "\n",
    "ax[0].set_title('Training and Validation Loss')\n",
    "ax[0].set_xlabel('Iteration')\n",
    "ax[0].set_ylabel('Loss (MSE)')\n",
    "ax[0].semilogy(np.arange(len(train_loss)), train_loss, label='Training', lw=3)\n",
    "ax[0].semilogy(np.arange(len(val_loss)), val_loss, label='Validation', lw=3)\n",
    "ax[0].legend()\n",
    "ax[0].grid()\n",
    "\n",
    "ax[1].set_title('True and Predicted Data')\n",
    "ax[1].plot(Xtest.flatten(), ypred.flatten(), label='Prediction', lw=3)\n",
    "ax[1].plot(Xtest.flatten(), ytest.flatten(), label='Truth', lw=3)\n",
    "ax[1].legend()\n",
    "\n",
    "plt.tight_layout()\n",
    "plt.savefig('test_example_loss.png')"
   ]
  },
  {
   "cell_type": "markdown",
   "id": "documentary-shelter",
   "metadata": {},
   "source": [
    "# Test example 2\n",
    "\n",
    "Approximating the product and max functions."
   ]
  },
  {
   "cell_type": "code",
   "execution_count": 6,
   "id": "bacterial-speech",
   "metadata": {},
   "outputs": [],
   "source": [
    "# f(x) = [x1*x2*x3, max(x1, x2, x3)] nonlinear function\n",
    "m0 = 3\n",
    "m1 = 20\n",
    "m2 = 2\n",
    "\n",
    "nn = TwoLayerNetwork(m0, m1, m2)"
   ]
  },
  {
   "cell_type": "code",
   "execution_count": 7,
   "id": "determined-projector",
   "metadata": {},
   "outputs": [],
   "source": [
    "# Training data\n",
    "n = 10000\n",
    "X = 10*(np.random.rand(3, n) - 0.5)  # Uniform [-5, 5]\n",
    "y = np.vstack([X.prod(axis=0), X.max(axis=0)])"
   ]
  },
  {
   "cell_type": "code",
   "execution_count": 8,
   "id": "assured-analysis",
   "metadata": {},
   "outputs": [
    {
     "name": "stderr",
     "output_type": "stream",
     "text": [
      "100%|██████████| 200000/200000 [21:25<00:00, 155.59it/s] \n"
     ]
    },
    {
     "data": {
      "text/plain": [
       "12.815207909936653"
      ]
     },
     "execution_count": 8,
     "metadata": {},
     "output_type": "execute_result"
    }
   ],
   "source": [
    "nn.train(X, y, 1e-3, 200000)  # Note that this may take 20-30 minutes."
   ]
  },
  {
   "cell_type": "code",
   "execution_count": 9,
   "id": "packed-sheet",
   "metadata": {},
   "outputs": [
    {
     "name": "stdout",
     "output_type": "stream",
     "text": [
      "[[5.93894474]\n",
      " [3.63720082]]\n"
     ]
    }
   ],
   "source": [
    "# Evaluate the network on a test point\n",
    "test_point = np.array([1, 2, 3]).reshape((-1, 1))\n",
    "prediction = nn.predict(test_point)\n",
    "\n",
    "prod_pred = prediction[0][0]\n",
    "max_pred = prediction[1][0]\n",
    "\n",
    "print(prediction)"
   ]
  },
  {
   "cell_type": "markdown",
   "id": "criminal-marathon",
   "metadata": {},
   "source": [
    "# Plot ReLU and gradient"
   ]
  },
  {
   "cell_type": "code",
   "execution_count": 10,
   "id": "presidential-finland",
   "metadata": {},
   "outputs": [
    {
     "data": {
      "image/png": "[encoded data removed]",
      "text/plain": [
       "<Figure size 720x288 with 2 Axes>"
      ]
     },
     "metadata": {
      "needs_background": "light"
     },
     "output_type": "display_data"
    }
   ],
   "source": [
    "# Plot ReLU and gradient\n",
    "\n",
    "x = np.linspace(-1, 1, 101)\n",
    "y = relu(x)\n",
    "\n",
    "fig, ax = plt.subplots(1,2, figsize=(10,4))\n",
    "ax[0].plot(x,y, lw=4, c='k')\n",
    "ax[0].set_xticks([-1, 0, 1])\n",
    "ax[0].set_yticks([0, 1], [\"0\", \"1\"])\n",
    "ax[0].set_ylim([-0.2, 1])\n",
    "ax[0].set_title('$\\\\texttt{relu}$')\n",
    "\n",
    "\n",
    "\n",
    "xn = np.linspace(-1, 0, 101)\n",
    "yn = grad_relu(xn)\n",
    "\n",
    "xp = np.linspace(0, 1, 101)[1:]\n",
    "yp = grad_relu(xp)\n",
    "\n",
    "ax[1].plot(xn,yn, lw=4, c='k')\n",
    "ax[1].plot(xp,yp, lw=4, c='k')\n",
    "ax[1].plot([0,0], [0,1], lw=4, c='k', ls=':')\n",
    "ax[1].set_xticks([-1, 0, 1])\n",
    "ax[1].set_yticks([0, 1], [\"0\", \"1\"])\n",
    "ax[1].set_ylim([-0.2, 1.2])\n",
    "ax[1].set_title('$\\\\texttt{relu}^{\\prime}$')\n",
    "\n",
    "plt.tight_layout()\n",
    "#plt.savefig('relu.png')"
   ]
  }
 ],
 "metadata": {
  "kernelspec": {
   "display_name": "Python 3",
   "language": "python",
   "name": "python3"
  },
  "language_info": {
   "codemirror_mode": {
    "name": "ipython",
    "version": 3
   },
   "file_extension": ".py",
   "mimetype": "text/x-python",
   "name": "python",
   "nbconvert_exporter": "python",
   "pygments_lexer": "ipython3",
   "version": "3.9.17"
  }
 },
 "nbformat": 4,
 "nbformat_minor": 5
}
